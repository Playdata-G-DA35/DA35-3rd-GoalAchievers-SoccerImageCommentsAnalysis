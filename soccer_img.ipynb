{
 "cells": [
  {
   "cell_type": "code",
   "execution_count": 8,
   "metadata": {},
   "outputs": [
    {
     "name": "stdout",
     "output_type": "stream",
     "text": [
      "Collecting opencv-contrib-python\n",
      "  Using cached opencv_contrib_python-4.9.0.80-cp37-abi3-win_amd64.whl.metadata (20 kB)\n",
      "Requirement already satisfied: numpy>=1.21.2 in c:\\classes\\06_nlp_preprocessing\\env\\lib\\site-packages (from opencv-contrib-python) (1.26.4)\n",
      "Using cached opencv_contrib_python-4.9.0.80-cp37-abi3-win_amd64.whl (45.3 MB)\n",
      "Installing collected packages: opencv-contrib-python\n",
      "Successfully installed opencv-contrib-python-4.9.0.80\n",
      "Note: you may need to restart the kernel to use updated packages.\n"
     ]
    }
   ],
   "source": [
    "pip install opencv-contrib-python\n"
   ]
  },
  {
   "cell_type": "code",
   "execution_count": 12,
   "metadata": {},
   "outputs": [
    {
     "data": {
      "text/plain": [
       "'c:\\\\classes\\\\06_NLP_Preprocessing\\\\project\\\\videos\\\\[2023 AFC 카타르 아시안컵] 2023 AFC 카타르 아시안컵 호주 VS 대한민국 풀 하이라이트.mp4'"
      ]
     },
     "execution_count": 12,
     "metadata": {},
     "output_type": "execute_result"
    }
   ],
   "source": [
    "import os\n",
    "from pytube import YouTube\n",
    "\n",
    "os.makedirs(\"videos\", exist_ok=True)\n",
    "\n",
    "url = 'https://www.youtube.com/watch?v=kW_z-NMuZIU'\n",
    "\n",
    "yt = YouTube(url)\n",
    "stream = yt.streams.get_highest_resolution()\n",
    "stream.download(output_path=\"videos\")"
   ]
  },
  {
   "cell_type": "code",
   "execution_count": 79,
   "metadata": {},
   "outputs": [
    {
     "name": "stdout",
     "output_type": "stream",
     "text": [
      "True\n"
     ]
    },
    {
     "ename": "error",
     "evalue": "OpenCV(4.9.0) D:\\a\\opencv-python\\opencv-python\\opencv\\modules\\highgui\\src\\window.cpp:971: error: (-215:Assertion failed) size.width>0 && size.height>0 in function 'cv::imshow'\n",
     "output_type": "error",
     "traceback": [
      "\u001b[1;31m---------------------------------------------------------------------------\u001b[0m",
      "\u001b[1;31merror\u001b[0m                                     Traceback (most recent call last)",
      "Cell \u001b[1;32mIn[79], line 16\u001b[0m\n\u001b[0;32m     13\u001b[0m \u001b[38;5;28;01mwhile\u001b[39;00m cap\u001b[38;5;241m.\u001b[39misOpened():\n\u001b[0;32m     14\u001b[0m     succ, frame \u001b[38;5;241m=\u001b[39m cap\u001b[38;5;241m.\u001b[39mread() \n\u001b[1;32m---> 16\u001b[0m     \u001b[43mcv2\u001b[49m\u001b[38;5;241;43m.\u001b[39;49m\u001b[43mimshow\u001b[49m\u001b[43m(\u001b[49m\u001b[38;5;124;43m'\u001b[39;49m\u001b[38;5;124;43mframe\u001b[39;49m\u001b[38;5;124;43m'\u001b[39;49m\u001b[43m,\u001b[49m\u001b[43mframe\u001b[49m\u001b[43m)\u001b[49m\n\u001b[0;32m     17\u001b[0m     \u001b[38;5;66;03m# 파일로 저장\u001b[39;00m\n\u001b[0;32m     18\u001b[0m     \u001b[38;5;28;01mif\u001b[39;00m cnt \u001b[38;5;241m%\u001b[39m \u001b[38;5;241m200\u001b[39m \u001b[38;5;241m==\u001b[39m \u001b[38;5;241m0\u001b[39m:  \u001b[38;5;66;03m# 100 프레임당 하나씩 \u001b[39;00m\n",
      "\u001b[1;31merror\u001b[0m: OpenCV(4.9.0) D:\\a\\opencv-python\\opencv-python\\opencv\\modules\\highgui\\src\\window.cpp:971: error: (-215:Assertion failed) size.width>0 && size.height>0 in function 'cv::imshow'\n"
     ]
    }
   ],
   "source": [
    "# 영상 캡처\n",
    "import cv2\n",
    "\n",
    "os.makedirs(\"vid_capture\",exist_ok=True)\n",
    "\n",
    "cap= cv2.VideoCapture(r\"C:\\classes\\06_NLP_Preprocessing\\project\\videos\\[2023 AFC 카타르 아시안컵] 2023 AFC 카타르 아시안컵 호주 VS 대한민국 풀 하이라이트.mp4\")\n",
    "cnt = 0 # 몇번째 frame인지 저장할 변수\n",
    "print(cap.isOpened())\n",
    "delay = int(50/FPS)  # 1000밀리초(1초)/FPS -> FPS 기준 1 Frame을 출력하는데 걸리는 시간\n",
    "\n",
    "FPS = cap.get(cv2.CAP_PROP_FPS)\n",
    "\n",
    "while cap.isOpened():\n",
    "    succ, frame = cap.read() \n",
    "    if not succ : # 읽기 실패\n",
    "        print('캡처 실패')\n",
    "        break\n",
    "    \n",
    "    cv2.imshow('frame',frame)\n",
    "    # 파일로 저장\n",
    "    if cnt % 200 == 0 and (2400 < cnt < 23400):  \n",
    "        cv2.imwrite(f\"vid_capture/cap_{cnt+1}.jpg\", frame)\n",
    "    if cv2.waitKey(delay) == 27: # 키 입력을 1밀리초 대기(1/1000초). esc 입력시 종료\n",
    "        break\n",
    "    cnt+=1 \n",
    "\n",
    "cap.release()\n",
    "cv2.destroyAllWindows()\n"
   ]
  },
  {
   "cell_type": "code",
   "execution_count": 88,
   "metadata": {},
   "outputs": [],
   "source": [
    "import cv2 \n",
    "import numpy as np\n",
    "import glob\n",
    "\n",
    "os.makedirs(\"output/grayscale\", exist_ok=True)\n",
    "os.makedirs(\"output/move\", exist_ok=True)\n",
    "os.makedirs(\"output/bright\", exist_ok=True)\n",
    "os.makedirs(\"output/edge\", exist_ok=True)\n",
    "os.makedirs(\"output/red\", exist_ok=True)\n",
    "os.makedirs(\"output/yellow\", exist_ok=True)\n",
    "os.makedirs(\"output/red_yellow\", exist_ok=True)\n",
    "\n",
    "\n",
    "img_list = glob.glob('vid_capture/*.jpg')\n",
    "\n",
    "cnt = 0\n",
    "for img_path in img_list:\n",
    "    fname = os.path.basename(img_path) # 파일명 조회\n",
    "    fname, ext = os.path.splitext(fname)   # 파일이름, 확장자를 분리해서 변수에 저장.\n",
    "    # 읽기\n",
    "    img = cv2.imread(img_path)\n",
    "\n",
    "    ## 이진화\n",
    "    ### grayscale 변환. \n",
    "    img_gray = cv2.cvtColor(img, cv2.COLOR_BGR2GRAY)\n",
    "    _, img_bin = cv2.threshold(img_gray, 127, 255, cv2.THRESH_BINARY)\n",
    "    save_path1 = f\"output/grayscale/{fname}_binary_{cnt:03d}{ext}\"  # 03d: 0으로 세자리 맞춤. 1->001\n",
    "    cv2.imwrite(save_path1,  img_bin)\n",
    "    \n",
    "    ## 좌우 이동 (20px 이동)\n",
    "    affine_matrix = np.array([[1, 0, 20], [0, 1, 0]], dtype=\"float32\")\n",
    "    img_move = cv2.warpAffine(img, affine_matrix, (0, 0))\n",
    "    save_path2 = f\"output/move/{fname}_move_{cnt:03d}{ext}\"\n",
    "    cv2.imwrite(save_path2, img_move)\n",
    "\n",
    "    ## 밝기 변경 (50 만큼 밝게)\n",
    "    img_bright = cv2.add(img, 50)\n",
    "    save_path3 = f\"output/bright/{fname}_bright_{cnt:03d}{ext}\"\n",
    "    cv2.imwrite(save_path3, img_bright)\n",
    "\n",
    "    ## 엣지 검출\n",
    "    img_edge = cv2.Canny(img_gray, 50, 150)\n",
    "    save_path4 = f\"output/edge/{fname}_edge_{cnt:03d}{ext}\"\n",
    "    cv2.imwrite(save_path4, img_edge)\n",
    "\n",
    "    # 빨강색이 있는 영역 찾기 (대한민국)\n",
    "    # 빨강색 범위 : 0~10, 170~180\n",
    "    # 채도, 명도 범위 : 100~255 \n",
    "    img_hsv = cv2.cvtColor(img,cv2.COLOR_BGR2HSV) # BGR -> HSV\n",
    "    low_red1 = np.array([0,100,100]) # 범위의 작은 지점 (색; 0, 채도 ;100, 명도; 100) 채도 명도는 동일하게\n",
    "    up_red1 = np.array([15,255,255]) \n",
    "    low_red2 = np.array([170,100,100])\n",
    "    up_red2 = np.array([180,255,255])\n",
    "\n",
    "    r_mask1= cv2.inRange(img_hsv, low_red1, up_red1) # inRange 함수 ; 범위 해당 값은 255 / 나머지 다 0 변환 ; 이진화\n",
    "    r_mask2 = cv2.inRange(img_hsv, low_red2, up_red2) \n",
    "    r_mask = r_mask1 + r_mask2 \n",
    "    img_red = cv2.bitwise_and(img,img, mask=r_mask)\n",
    "    save_path5 = f\"output/red/{fname}_red_{cnt:03d}{ext}\"\n",
    "    cv2.imwrite(save_path5, img_red)\n",
    "\n",
    "    # 노란색 영역 찾기 (호주)\n",
    "    low_yell = np.array([20,100,100]) \n",
    "    up_yell = np.array([35,255,255]) \n",
    "    \n",
    "    y_mask= cv2.inRange(img_hsv, low_yell, up_yell) # inRange 함수 ; 범위 해당 값은 255 / 나머지 다 0 변환 ; 이진화\n",
    "    img_yell = cv2.bitwise_and(img,img, mask= y_mask)\n",
    "    save_path6 = f\"output/yellow/{fname}_yellow_{cnt:03d}{ext}\"\n",
    "    cv2.imwrite(save_path6, img_yell)\n",
    "\n",
    "    # 빨간색 + 노란색\n",
    "\n",
    "    mask=r_mask+y_mask\n",
    "    img_red_yell = cv2.bitwise_and(img,img, mask= mask)\n",
    "    save_path7 = f\"output/red_yellow/{fname}_red_yellow_{cnt:03d}{ext}\"\n",
    "    cv2.imwrite(save_path7, img_red_yell)\n",
    "\n",
    "\n",
    "    cnt += 1\n",
    "    "
   ]
  }
 ],
 "metadata": {
  "kernelspec": {
   "display_name": "env",
   "language": "python",
   "name": "python3"
  },
  "language_info": {
   "codemirror_mode": {
    "name": "ipython",
    "version": 3
   },
   "file_extension": ".py",
   "mimetype": "text/x-python",
   "name": "python",
   "nbconvert_exporter": "python",
   "pygments_lexer": "ipython3",
   "version": "3.11.8"
  }
 },
 "nbformat": 4,
 "nbformat_minor": 2
}
