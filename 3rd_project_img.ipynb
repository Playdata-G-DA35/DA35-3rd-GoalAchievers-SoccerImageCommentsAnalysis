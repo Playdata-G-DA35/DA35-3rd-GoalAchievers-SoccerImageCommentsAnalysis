{
 "cells": [
  {
   "cell_type": "code",
   "execution_count": 32,
   "metadata": {},
   "outputs": [
    {
     "data": {
      "text/plain": [
       "'c:\\\\Classes\\\\05_numpy_opencv\\\\project/한국vs호주.mp4'"
      ]
     },
     "execution_count": 32,
     "metadata": {},
     "output_type": "execute_result"
    }
   ],
   "source": [
    "# 영상 다운로드\n",
    "from pytube import YouTube\n",
    "import cv2\n",
    "import os\n",
    "\n",
    "os.makedirs('project', exist_ok=True)\n",
    "# 다운로드할 유튜브 영상의 링크\n",
    "url = \"https://www.youtube.com/watch?v=kW_z-NMuZIU\"\n",
    "\n",
    "# YouTube 객체 생성\n",
    "yt = YouTube(url)\n",
    "\n",
    "# 가장 높은 품질의 비디오 스트림 선택\n",
    "video = yt.streams.get_highest_resolution()\n",
    "\n",
    "# 다운로드 시작\n",
    "video.download(filename='project/한국vs호주.mp4')"
   ]
  },
  {
   "cell_type": "code",
   "execution_count": 33,
   "metadata": {},
   "outputs": [
    {
     "name": "stdout",
     "output_type": "stream",
     "text": [
      "동영상 편집이 완료되었습니다.\n"
     ]
    }
   ],
   "source": [
    "# 동영상 편집 (영상 길이 조정)\n",
    "import cv2\n",
    "\n",
    "# 동영상 파일 경로\n",
    "video_path = \"project\\한국vs호주.mp4\"\n",
    "\n",
    "# VideoCapture 객체를 생성하여 동영상 파일을 엽니다\n",
    "cap = cv2.VideoCapture(video_path)\n",
    "\n",
    "# 시작 시간과 끝 시간 설정 (73초부터 232초까지)\n",
    "start_time = 73  # 시작 시간(초)\n",
    "end_time = 232    # 끝 시간(초)\n",
    "\n",
    "# 시작 프레임과 종료 프레임 계산\n",
    "fps = cap.get(cv2.CAP_PROP_FPS)\n",
    "start_frame = int(start_time * fps)\n",
    "end_frame = int(end_time * fps)\n",
    "\n",
    "# 동영상 파일을 저장할 VideoWriter 객체를 생성합니다\n",
    "output_video_path = \"project/한국vs호주_edited.mp4\"\n",
    "fourcc = cv2.VideoWriter_fourcc(*'mp4v')\n",
    "writer = cv2.VideoWriter(output_video_path, fourcc, fps, (int(cap.get(3)), int(cap.get(4))))\n",
    "\n",
    "# 시작 프레임으로 이동합니다\n",
    "cap.set(cv2.CAP_PROP_POS_FRAMES, start_frame)\n",
    "\n",
    "# 동영상을 읽어서 자릅니다\n",
    "frame_count = start_frame\n",
    "while frame_count < end_frame:\n",
    "    succ, frame = cap.read()\n",
    "    if not succ:\n",
    "        break\n",
    "    writer.write(frame)\n",
    "    frame_count += 1\n",
    "\n",
    "# 객체들을 해제합니다\n",
    "cap.release()\n",
    "writer.release()\n",
    "\n",
    "print(\"동영상 편집이 완료되었습니다.\")"
   ]
  },
  {
   "cell_type": "code",
   "execution_count": 2,
   "metadata": {},
   "outputs": [
    {
     "name": "stdout",
     "output_type": "stream",
     "text": [
      "캡처 실패\n"
     ]
    }
   ],
   "source": [
    "# 영상 200 프레임당 이미지 캡처\n",
    "from pytube import YouTube\n",
    "import cv2\n",
    "import os\n",
    "\n",
    "cap = cv2.VideoCapture('project\\한국vs호주_edited.mp4')\n",
    "\n",
    "# 동영상 FPS 값을 조회\n",
    "FPS = cap.get(cv2.CAP_PROP_FPS)\n",
    "delay = int(30/FPS)\n",
    "\n",
    "cnt=0\n",
    "i=0\n",
    "while cap.isOpened():\n",
    "    succ, frame = cap.read()\n",
    "    if not succ:\n",
    "        print('캡처 실패')\n",
    "        break\n",
    "\n",
    "    # 화면 출력 + 저장\n",
    "    cv2.imshow('frame', frame)\n",
    "\n",
    "    # 200 프레임당 캡처 저장\n",
    "    if cnt%50==0:\n",
    "        cv2.imwrite(f'project/soccer_{i}.jpg', frame)\n",
    "        i += 1\n",
    "    cnt += 1\n",
    "    \n",
    "    if cv2.waitKey(delay) == 27:    # esc 클릭 시 break\n",
    "        break\n",
    "    \n",
    "cap.release()\n",
    "cv2.destroyAllWindows()"
   ]
  },
  {
   "cell_type": "code",
   "execution_count": 3,
   "metadata": {},
   "outputs": [],
   "source": [
    "from glob import glob\n",
    "import cv2\n",
    "import numpy as np\n",
    "import os\n",
    "\n",
    "red_path = os.makedirs('project/Red', exist_ok=True)\n",
    "yellow_path = os.makedirs('project/Yellow', exist_ok=True)\n",
    "red_yellow_path = os.makedirs('project/Red_Yellow', exist_ok=True)\n",
    "\n",
    "img_list = glob('project/*.jpg')\n",
    "cnt=0\n",
    "for img_path in img_list:\n",
    "    fname = os.path.basename(img_path)      # 파일명 조회\n",
    "    fname, ext = os.path.splitext(fname)    # 파일이름, 확장자를 분리해서 변수에 저장\n",
    "    \n",
    "    # 읽기\n",
    "    img = cv2.imread(img_path)\n",
    "    \n",
    "    ### grayscale 변환\n",
    "    img_gray = cv2.cvtColor(img, cv2.COLOR_BGR2GRAY)\n",
    "\n",
    "    ### 이진화\n",
    "    _, img_bin = cv2.threshold(img_gray, 127, 255, cv2.THRESH_BINARY)\n",
    "\n",
    "    ### 저장\n",
    "    save_path1 = f'project/{fname}_binary_{cnt:03d}{ext}'   # 03d: 세자리 맞춤. 1 -> 001\n",
    "    cv2.imwrite(save_path1, img_bin)\n",
    "\n",
    "    # HSV\n",
    "    ## 빨간 유니폼만 추출\n",
    "    img_hsv = cv2.cvtColor(img, cv2.COLOR_BGR2HSV)\n",
    "    \n",
    "    low_red1 = np.array([0, 100, 100])\n",
    "    high_red1 = np.array([15, 255, 255])\n",
    "    low_red2 = np.array([165, 100, 100])\n",
    "    high_red2 = np.array([180, 255, 255])\n",
    "    mask1 = cv2.inRange(img_hsv, low_red1, high_red1)\n",
    "    mask2 = cv2.inRange(img_hsv, low_red2, high_red2)\n",
    "    mask = mask1 + mask2\n",
    "    red_hsv = cv2.bitwise_and(img, img, mask=mask)\n",
    "    save_path2 = f'project/Red/{fname}_hsv_R{cnt:03d}{ext}'\n",
    "    cv2.imwrite(save_path2, red_hsv)\n",
    "\n",
    "    # HSV\n",
    "    ## 노란 유니폼만 추출\n",
    "    low_yellow1 = np.array([20, 100, 100])\n",
    "    high_yellow1 = np.array([35, 255, 255])\n",
    "    mask3 = cv2.inRange(img_hsv, low_yellow1, high_yellow1)\n",
    "    yellow_hsv = cv2.bitwise_and(img, img, mask=mask3)\n",
    "    save_path2_2 = f'project/Yellow/{fname}_hsv_Y{cnt:03d}{ext}'\n",
    "    cv2.imwrite(save_path2_2, yellow_hsv)\n",
    "\n",
    "    # HSV\n",
    "    ## RED + YELLOW\n",
    "    mask = mask1 + mask2 + mask3\n",
    "    ry_hsv = cv2.bitwise_and(img, img, mask=mask)\n",
    "    save_path2_3 = f'project/Red_Yellow/{fname}_hsv_RY{cnt:03d}{ext}'\n",
    "    cv2.imwrite(save_path2_3, ry_hsv)\n",
    "\n",
    "    ## 밝기 변경 (30만큼 밝게)\n",
    "    img_bright = cv2.add(img, 30)\n",
    "    save_path3 = f'project/{fname}_bright_{cnt:03d}{ext}'\n",
    "    cv2.imwrite(save_path3, img_bright)\n",
    "\n",
    "    ## 엣지 검측\n",
    "    img_edge = cv2.Canny(img_gray, 50, 150)\n",
    "    save_path4 = f'project/{fname}_edge_{cnt:03d}{ext}'\n",
    "    cv2.imwrite(save_path4, img_edge)\n",
    "\n",
    "    cnt += 1"
   ]
  }
 ],
 "metadata": {
  "kernelspec": {
   "display_name": "env",
   "language": "python",
   "name": "python3"
  },
  "language_info": {
   "codemirror_mode": {
    "name": "ipython",
    "version": 3
   },
   "file_extension": ".py",
   "mimetype": "text/x-python",
   "name": "python",
   "nbconvert_exporter": "python",
   "pygments_lexer": "ipython3",
   "version": "3.11.7"
  }
 },
 "nbformat": 4,
 "nbformat_minor": 2
}
