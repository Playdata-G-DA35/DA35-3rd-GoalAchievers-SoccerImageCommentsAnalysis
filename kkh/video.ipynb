{
 "cells": [
  {
   "cell_type": "code",
   "execution_count": 1,
   "metadata": {},
   "outputs": [],
   "source": [
    "from pytube import YouTube"
   ]
  },
  {
   "cell_type": "code",
   "execution_count": 16,
   "metadata": {},
   "outputs": [],
   "source": [
    "yt = YouTube('https://www.youtube.com/watch?v=kW_z-NMuZIU')\n"
   ]
  },
  {
   "cell_type": "code",
   "execution_count": 17,
   "metadata": {},
   "outputs": [
    {
     "name": "stdout",
     "output_type": "stream",
     "text": [
      "영상 제목 :  [2023 AFC 카타르 아시안컵] 2023 AFC 카타르 아시안컵 호주 VS 대한민국 풀 하이라이트\n",
      "영상 조회수 :  6492275\n"
     ]
    }
   ],
   "source": [
    "print(\"영상 제목 : \", yt.title)\n",
    "\n",
    "print(\"영상 조회수 : \", yt.views)"
   ]
  },
  {
   "cell_type": "code",
   "execution_count": 26,
   "metadata": {},
   "outputs": [],
   "source": [
    "# 가장 높은 화질의 스트림 가져오기\n",
    "stream = yt.streams.get_highest_resolution()\n",
    "\n",
    "# 다운로드\n",
    "stream.download()\n",
    "\n",
    "# 파일 경로\n",
    "file_path = stream.download(\"pjt/video.mp4\")"
   ]
  }
 ],
 "metadata": {
  "kernelspec": {
   "display_name": "env",
   "language": "python",
   "name": "python3"
  },
  "language_info": {
   "codemirror_mode": {
    "name": "ipython",
    "version": 3
   },
   "file_extension": ".py",
   "mimetype": "text/x-python",
   "name": "python",
   "nbconvert_exporter": "python",
   "pygments_lexer": "ipython3",
   "version": "3.11.8"
  }
 },
 "nbformat": 4,
 "nbformat_minor": 2
}
