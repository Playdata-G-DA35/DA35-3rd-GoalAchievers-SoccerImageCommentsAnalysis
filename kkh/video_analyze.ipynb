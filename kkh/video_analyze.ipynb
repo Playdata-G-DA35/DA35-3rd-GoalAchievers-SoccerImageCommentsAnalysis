{
 "cells": [
  {
   "cell_type": "code",
   "execution_count": 5,
   "metadata": {},
   "outputs": [],
   "source": [
    "import numpy as np\n",
    "import pandas as pd\n",
    "import cv2\n",
    "from glob import glob\n",
    "import os"
   ]
  },
  {
   "cell_type": "code",
   "execution_count": 8,
   "metadata": {},
   "outputs": [
    {
     "name": "stdout",
     "output_type": "stream",
     "text": [
      "cap_1.jpg\n",
      "output_capture\n",
      "('output_capture\\\\cap_1', '.jpg')\n"
     ]
    }
   ],
   "source": [
    "###### 파일 경로의 정보 조회\n",
    "fname = 'output_capture\\\\cap_1.jpg'\n",
    "#  파일명\n",
    "print(os.path.basename(fname))\n",
    "print(os.path.dirname(fname))\n",
    "print(os.path.splitext('output_capture\\\\cap_1.jpg'))  # 파일명과 확장자 분리"
   ]
  },
  {
   "cell_type": "code",
   "execution_count": 9,
   "metadata": {},
   "outputs": [],
   "source": [
    "os.makedirs('bin', exist_ok=True)"
   ]
  },
  {
   "cell_type": "code",
   "execution_count": 10,
   "metadata": {},
   "outputs": [],
   "source": [
    "img_list = glob(\"output_capture/*.jpg\")\n",
    "cnt = 0\n",
    "for img_path in img_list :\n",
    "    fname = os.path.basename(img_path)   # 파일명 조회.\n",
    "    fname, ext = os.path.splitext(fname) # 파일이름, 확장자를 분리해서 변수에 저장.\n",
    "    ## 읽기\n",
    "    img = cv2.imread(img_path)\n",
    "    ## 이진화\n",
    "    ### grayscale 변환.\n",
    "    img_gray = cv2.cvtColor(img, cv2.COLOR_BGR2GRAY)\n",
    "    ### 이진화\n",
    "    _, img_bin = cv2.threshold(img_gray, 127, 255, cv2.THRESH_BINARY)\n",
    "    ### 저장\n",
    "    save_path1 =f\"bin/{fname}_binary_{cnt:03d}{ext}\"    # 03d: 0으로 세자리 맞춤 (1-> 001)\n",
    "    cv2.imwrite(save_path1, img_bin)\n",
    "\n",
    "    ## 밝기 변경(60 만큼 밝게)\n",
    "    img_bright = cv2.add(img, 60)\n",
    "    save_path3 = f\"bin/{fname}_{cnt:03d}{ext}\"\n",
    "    cv2.imwrite(save_path3, img_bright)\n",
    "\n",
    "    ## 엣지 검축\n",
    "    img_edge = cv2.Canny(img_gray, 50, 150)\n",
    "    save_path4 = f\"bin/{fname}_edge_{cnt:03d}{ext}\"\n",
    "    cv2.imwrite(save_path4, img_edge)\n",
    "\n",
    "    cnt += 1"
   ]
  },
  {
   "cell_type": "code",
   "execution_count": 11,
   "metadata": {},
   "outputs": [],
   "source": [
    "os.makedirs('red', exist_ok=True)"
   ]
  },
  {
   "cell_type": "code",
   "execution_count": 12,
   "metadata": {},
   "outputs": [],
   "source": [
    "##  빨강 \n",
    "import os\n",
    "import cv2\n",
    "import numpy as np\n",
    "\n",
    "img_list = glob(\"output_capture/*.jpg\")\n",
    "cnt = 0\n",
    "for img_path in img_list:\n",
    "    fname = os.path.basename(img_path)   # 파일명 조회.\n",
    "    fname, ext = os.path.splitext(fname) # 파일이름, 확장자를 분리해서 변수에 저장.\n",
    "\n",
    "    ## 읽기\n",
    "    img = cv2.imread(img_path)\n",
    "    hsv_img = cv2.cvtColor(img, cv2.COLOR_BGR2HSV)  # 수정된 부분\n",
    "\n",
    "    # 빨강색 초콜릿만 세분화(분할) # 빨강색 범위: 0~ 10, 170 ~ 180\n",
    "    #  채도, 명도 범위: 100 ~ 255\n",
    "    low_red1 = np.array([0, 100, 100]) # 범위의 작은지점(색: 0, 채도: 100, 명도: 100)\n",
    "    up_red1 = np.array([15, 255, 255]) \n",
    "\n",
    "    low_red2 = np.array([160, 100, 100])\n",
    "    up_red2 = np.array([180, 255, 255])\n",
    "    ### 채널별로 255를 만들 범위를 지정\n",
    "\n",
    "    # 빨강색이 있는 영역을 찾기 (빨강색 영역을 pexcel들을 255, 나머지는 0) - MASK\n",
    "    mask1 = cv2.inRange(hsv_img, low_red1, up_red1)\n",
    "    mask2 = cv2.inRange(hsv_img, low_red2, up_red2)\n",
    "    mask = mask1 + mask2\n",
    "\n",
    "    # mask 지정 -> mask 영역(255)만 계산. 나머지는 0을 반환\n",
    "    # 같은 image로 bitwise_and()연산  -> 원래 이미지가 출력으로 나옴\n",
    "    red_img = cv2.bitwise_and(img, img, mask=mask)  \n",
    "    # mask의 255는 mnm 이미지를 나머지 영역(0)은 0이 반환\n",
    "    save_path5 = f\"red/{fname}_red_{cnt:03d}{ext}\"\n",
    "    cv2.imwrite(save_path5, red_img)\n",
    "\n",
    "    cnt += 1"
   ]
  },
  {
   "cell_type": "code",
   "execution_count": 13,
   "metadata": {},
   "outputs": [],
   "source": [
    "os.makedirs('yellow', exist_ok=True)"
   ]
  },
  {
   "cell_type": "code",
   "execution_count": 14,
   "metadata": {},
   "outputs": [],
   "source": [
    "## 다른 색\n",
    "img_list = glob(\"output_capture/*.jpg\")\n",
    "cnt = 0\n",
    "for img_path in img_list:\n",
    "    fname = os.path.basename(img_path)   # 파일명 조회.\n",
    "    fname, ext = os.path.splitext(fname) # 파일이름, 확장자를 분리해서 변수에 저장.\n",
    "\n",
    "    ## 읽기\n",
    "    img = cv2.imread(img_path)\n",
    "    hsv_img = cv2.cvtColor(img, cv2.COLOR_BGR2HSV)  # 수정된 부분\n",
    "\n",
    "    # 색 지정\n",
    "    #  채도, 명도 범위: 100 ~ 255\n",
    "    low_color = np.array([0, 100, 100]) # 범위의 작은지점(색: 0, 채도: 100, 명도: 100)\n",
    "    up_color = np.array([25, 255, 255]) \n",
    "\n",
    "    ## 노랑\n",
    "    # low_yellow = np.array([20, 100, 100])\n",
    "    # up_yellow = np.array([35, 255, 255])\n",
    "\n",
    "    # 색이 있는 영역을 찾기 (빨강색 영역을 pexcel들을 255, 나머지는 0) - MASK\n",
    "    mask = cv2.inRange(hsv_img, low_color, up_color)    \n",
    "\n",
    "    # mask 지정 -> mask 영역(255)만 계산. 나머지는 0을 반환\n",
    "    # 같은 image로 bitwise_and()연산  -> 원래 이미지가 출력으로 나옴\n",
    "    color_img = cv2.bitwise_and(img, img, mask=mask)  \n",
    "    # mask의 255는 mnm 이미지를 나머지 영역(0)은 0이 반환\n",
    "    save_path5 = f\"yellow/{fname}_yellow_{cnt:03d}{ext}\"\n",
    "    cv2.imwrite(save_path5, color_img)\n",
    "\n",
    "    cnt += 1"
   ]
  },
  {
   "cell_type": "code",
   "execution_count": null,
   "metadata": {},
   "outputs": [],
   "source": []
  }
 ],
 "metadata": {
  "kernelspec": {
   "display_name": "env",
   "language": "python",
   "name": "python3"
  },
  "language_info": {
   "codemirror_mode": {
    "name": "ipython",
    "version": 3
   },
   "file_extension": ".py",
   "mimetype": "text/x-python",
   "name": "python",
   "nbconvert_exporter": "python",
   "pygments_lexer": "ipython3",
   "version": "3.11.8"
  }
 },
 "nbformat": 4,
 "nbformat_minor": 2
}
