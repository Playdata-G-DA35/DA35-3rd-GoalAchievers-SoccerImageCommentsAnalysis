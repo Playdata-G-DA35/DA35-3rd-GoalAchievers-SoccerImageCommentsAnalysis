{
 "cells": [
  {
   "cell_type": "code",
   "execution_count": 2,
   "metadata": {},
   "outputs": [],
   "source": [
    "import numpy as np\n",
    "import pandas as pd\n",
    "import cv2\n",
    "import os"
   ]
  },
  {
   "cell_type": "code",
   "execution_count": 5,
   "metadata": {},
   "outputs": [],
   "source": [
    "os.makedirs(\"output_capture\", exist_ok=True)"
   ]
  },
  {
   "cell_type": "code",
   "execution_count": 7,
   "metadata": {},
   "outputs": [
    {
     "name": "stdout",
     "output_type": "stream",
     "text": [
      "True\n",
      "캡쳐 실패\n"
     ]
    }
   ],
   "source": [
    "cap = cv2.VideoCapture('soccer_video.mp4')\n",
    "cnt = 0 # 몇 번째 frame인지 저장할 변수\n",
    "FPS = cap.get(cv2.CAP_PROP_FPS)\n",
    "delay = int(50/FPS)\n",
    "\n",
    "print(cap.isOpened())\n",
    "while cap.isOpened():   \n",
    "    # 한 Frame 읽기\n",
    "    succ, frame = cap.read() \n",
    "    if not succ : # 읽기 실패\n",
    "        print(\"캡쳐 실패\")\n",
    "        break\n",
    "    # 좌우 반전\n",
    "    # frame = cv2.flip(frame, 1) \n",
    "    \n",
    "    # \n",
    "    cv2.imshow('frame', frame)\n",
    "    if cnt % 200 == 0:\n",
    "        cv2.imwrite(f\"output_capture/cap_{cnt+1}.jpg\", frame)\n",
    "    if cv2.waitKey(delay) == 27:\n",
    "        break\n",
    "   \n",
    "    cnt += 1\n",
    "\n",
    "cap.release() # 연결 닫기\n",
    "cv2.destroyAllWindows()"
   ]
  },
  {
   "cell_type": "code",
   "execution_count": null,
   "metadata": {},
   "outputs": [],
   "source": []
  }
 ],
 "metadata": {
  "kernelspec": {
   "display_name": "env",
   "language": "python",
   "name": "python3"
  },
  "language_info": {
   "codemirror_mode": {
    "name": "ipython",
    "version": 3
   },
   "file_extension": ".py",
   "mimetype": "text/x-python",
   "name": "python",
   "nbconvert_exporter": "python",
   "pygments_lexer": "ipython3",
   "version": "3.11.8"
  }
 },
 "nbformat": 4,
 "nbformat_minor": 2
}
